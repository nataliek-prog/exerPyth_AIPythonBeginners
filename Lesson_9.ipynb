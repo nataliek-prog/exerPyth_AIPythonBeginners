{
 "cells": [
  {
   "cell_type": "markdown",
   "id": "817221c9",
   "metadata": {},
   "source": [
    "# L9: Building LLM prompts with variables"
   ]
  },
  {
   "cell_type": "markdown",
   "id": "36029c06",
   "metadata": {},
   "source": [
    "In the next cell, you will import the function `print_llm_response` that uses an LLM with an instruction that you provide as a string and displays the result."
   ]
  },
  {
   "cell_type": "code",
   "execution_count": 1,
   "id": "cc237f34",
   "metadata": {
    "height": 30
   },
   "outputs": [],
   "source": [
    "from helper_functions import print_llm_response"
   ]
  },
  {
   "cell_type": "markdown",
   "id": "3074c1f9",
   "metadata": {},
   "source": [
    "Basically, you can use that function as if you were asking a chatbot. You just need to provide your instructions as a string. For instance, you can ask \"What is the capital of France?\" using the following code:"
   ]
  },
  {
   "cell_type": "code",
   "execution_count": 2,
   "id": "afcf6686",
   "metadata": {
    "height": 30
   },
   "outputs": [
    {
     "name": "stdout",
     "output_type": "stream",
     "text": [
      "The capital of France is Paris.\n"
     ]
    }
   ],
   "source": [
    "print_llm_response(\"What is the capital of France?\")"
   ]
  },
  {
   "cell_type": "markdown",
   "id": "7e164d69",
   "metadata": {},
   "source": [
    "Let's ask the LLM for the lifestyle description for Otto Matic, whose name is stored in `name`, if he were a `dog_age` years old dog."
   ]
  },
  {
   "cell_type": "code",
   "execution_count": 3,
   "id": "196644ca",
   "metadata": {
    "height": 47
   },
   "outputs": [],
   "source": [
    "name = \"Otto Matic\"\n",
    "dog_age = 21/7"
   ]
  },
  {
   "cell_type": "code",
   "execution_count": 5,
   "id": "ad18f441",
   "metadata": {
    "height": 64
   },
   "outputs": [
    {
     "name": "stdout",
     "output_type": "stream",
     "text": [
      "At 3.0 years old, Otto Matic would be considered an adult dog. This life stage typically entails high energy levels, a strong interest in play and exercise, and a continued need for mental stimulation. Adult dogs may exhibit more independence but still enjoy social interactions and bonding with their owners. They may display behaviors such as increased confidence, curiosity, and a desire to explore their environment. Regular exercise, training, and mental enrichment are important to keep adult dogs happy and healthy.\n"
     ]
    }
   ],
   "source": [
    "print_llm_response(f\"\"\"If {name} were a dog, he would be {dog_age} years old.\n",
    "Describe what life stage that would be for a dog and what that might \n",
    "entail in terms of energy level, interests, and behavior.\"\"\")"
   ]
  },
  {
   "cell_type": "markdown",
   "id": "8349cb53",
   "metadata": {},
   "source": [
    "<b>You just used AI with your own variables!</b> You used an LLM with instructions that included variables you defined in this notebook.\n",
    "\n",
    "<b>Congratulations 🎉🎉🎉</b>"
   ]
  },
  {
   "cell_type": "markdown",
   "id": "51181411",
   "metadata": {},
   "source": [
    "## Variable names restrictions"
   ]
  },
  {
   "cell_type": "markdown",
   "id": "89d94522",
   "metadata": {},
   "source": [
    "The following variable names also have some problems. Try to fix them yourself or use the help from the chatbot."
   ]
  },
  {
   "cell_type": "code",
   "execution_count": 18,
   "id": "af96e951",
   "metadata": {
    "height": 64
   },
   "outputs": [],
   "source": [
    "driver = \"unicorn\"\n",
    "drivers_vehicle = \"colorful, asymmetric dinosaur car\"\n",
    "favorite_planet = \"Pluto\""
   ]
  },
  {
   "cell_type": "markdown",
   "id": "59a3a881",
   "metadata": {},
   "source": [
    "Now, update the next cell with any changes you made in the previous cell."
   ]
  },
  {
   "cell_type": "code",
   "execution_count": 19,
   "id": "02b7e02c",
   "metadata": {
    "height": 47
   },
   "outputs": [
    {
     "name": "stdout",
     "output_type": "stream",
     "text": [
      "Once upon a time in a magical land far, far away, there was a unicorn named Sparkle and a colorful, asymmetric dinosaur car named Roary. They were both determined to win the prestigious Pluto Champion Cup, the most thrilling race in the entire universe.\n",
      "\n",
      "Sparkle was known for her graceful speed and shimmering mane, while Roary was famous for his wild patterns and lightning-fast wheels. The day of the race arrived, and the excitement in the air was palpable.\n",
      "\n",
      "The race began with a thunderous roar, and Sparkle and Roary zoomed ahead, neck and neck. The crowd cheered as they weaved through obstacles and raced across the rainbow track.\n",
      "\n",
      "As they approached the finish line, Sparkle and Roary were in a dead heat. It was a nail-biting finish as they crossed the line at the exact same moment. The judges were stunned, unsure of who had won.\n",
      "\n",
      "But then, something magical happened. Sparkle and Roary looked at each other and shared a knowing smile. They both knew that winning wasn't everything. What mattered most was the thrill of the race and the joy of competing against a worthy opponent.\n",
      "\n",
      "In the end, the judges declared Sparkle and Roary co-champions of the Pluto Champion Cup. The crowd erupted in cheers and applause, celebrating the incredible display of sportsmanship and friendship.\n",
      "\n",
      "And so, Sparkle and Roary became legends in the racing world, showing that true champions are not just defined by their speed, but by their kindness and respect for each other. And they lived happily ever after, racing together in harmony for all eternity.\n"
     ]
    }
   ],
   "source": [
    "print_llm_response(f\"\"\"Write me a 300 word children's story about a {driver} racing\n",
    "a {drivers_vehicle} for the {favorite_planet} champion cup.\"\"\")"
   ]
  },
  {
   "cell_type": "markdown",
   "id": "98ec7de7",
   "metadata": {},
   "source": [
    "## Extra practice\n",
    "\n",
    "Try the exercises below to practice the concepts from this lesson. Read the comments in each cell with the instructions for each exercise.\n",
    "\n",
    "<b>Feel free to use the chatbot if you need help.</b>"
   ]
  },
  {
   "cell_type": "code",
   "execution_count": 26,
   "id": "9fb2bd26",
   "metadata": {
    "height": 81
   },
   "outputs": [
    {
     "name": "stdout",
     "output_type": "stream",
     "text": [
      "My most favorite book is 1001 Ways to Wear a Hat, but I also like 2002 Ways to Wear a Scarf\n"
     ]
    }
   ],
   "source": [
    "# Fix this code\n",
    "first_fav_book = \"1001 Ways to Wear a Hat\"\n",
    "second_fav_book = \"2002 Ways to Wear a Scarf\"\n",
    "print(f\"My most favorite book is {first_fav_book}, but I also like {second_fav_book}\")"
   ]
  },
  {
   "cell_type": "code",
   "execution_count": 28,
   "id": "407023e6",
   "metadata": {
    "height": 183
   },
   "outputs": [
    {
     "name": "stdout",
     "output_type": "stream",
     "text": [
      "Title: \"Monopoly Barbie Pizza Party\"\n",
      "\n",
      "(Verse 1)\n",
      "Roll the dice, take a chance\n",
      "In the world of Monopoly, we dance\n",
      "Buying properties, building hotels\n",
      "Living life in the fast lane, doing it well\n",
      "\n",
      "(Chorus)\n",
      "Monopoly Barbie Pizza Party\n",
      "Living it up, feeling so hearty\n",
      "Rolling in dough, living the dream\n",
      "Monopoly Barbie Pizza Party, supreme\n",
      "\n",
      "(Verse 2)\n",
      "Barbie's in her pink convertible\n",
      "Driving around, feeling unstoppable\n",
      "Pizza delivery, hot and fresh\n",
      "Eating slices with style, no stress\n",
      "\n",
      "(Chorus)\n",
      "Monopoly Barbie Pizza Party\n",
      "Living it up, feeling so hearty\n",
      "Rolling in dough, living the dream\n",
      "Monopoly Barbie Pizza Party, supreme\n",
      "\n",
      "(Bridge)\n",
      "Boardwalk, Park Place, luxury tax\n",
      "Barbie's fashion sense, always max\n",
      "Pizza toppings, cheese galore\n",
      "Monopoly Barbie Pizza Party, we want more\n",
      "\n",
      "(Chorus)\n",
      "Monopoly Barbie Pizza Party\n",
      "Living it up, feeling so hearty\n",
      "Rolling in dough, living the dream\n",
      "Monopoly Barbie Pizza Party, supreme\n",
      "\n",
      "(Outro)\n",
      "Monopoly Barbie Pizza Party, the place to be\n",
      "Having fun, feeling free\n",
      "Join the party, come along\n",
      "Monopoly Barbie Pizza Party, forever strong\n"
     ]
    }
   ],
   "source": [
    "# Make variables for your favorite game, movie, and food.\n",
    "# Then use print_llm_response to ask the LLM to recommend you\n",
    "# a new song to listen to based on your likes.\n",
    "\n",
    "game = \"monoploy\"\n",
    "movie = \"barbie\"\n",
    "food = \"pizza\"\n",
    "print_llm_response(f\"\"\"make a song base on {game} and {movie} and {food}\n",
    "\n",
    "\"\"\")"
   ]
  }
 ],
 "metadata": {
  "kernelspec": {
   "display_name": "Python 3 (ipykernel)",
   "language": "python",
   "name": "python3"
  },
  "language_info": {
   "codemirror_mode": {
    "name": "ipython",
    "version": 3
   },
   "file_extension": ".py",
   "mimetype": "text/x-python",
   "name": "python",
   "nbconvert_exporter": "python",
   "pygments_lexer": "ipython3",
   "version": "3.9.19"
  }
 },
 "nbformat": 4,
 "nbformat_minor": 5
}
