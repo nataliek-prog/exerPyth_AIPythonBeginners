{
 "cells": [
  {
   "cell_type": "markdown",
   "id": "4bd8fbd2-de5c-47bd-bcd9-cbbe8cdc3104",
   "metadata": {},
   "source": [
    "# Lesson 2 - Repeating tasks with for loops"
   ]
  },
  {
   "cell_type": "markdown",
   "id": "e270cc1f",
   "metadata": {},
   "source": [
    "This lesson will introduce you to a very important concept in programming: the `for` loop. A `for` loop is a special code pattern found in many languages that allows you to repeatedly perform actions on all the items in a list in an automated way. Let's take a look by starting with loading some functions."
   ]
  },
  {
   "cell_type": "code",
   "execution_count": 1,
   "id": "41ef33ad-2b5c-40db-a1ab-9f3c689edd55",
   "metadata": {
    "height": 30
   },
   "outputs": [],
   "source": [
    "from helper_functions import print_llm_response, get_llm_response"
   ]
  },
  {
   "cell_type": "markdown",
   "id": "db2a457b",
   "metadata": {},
   "source": [
    "## From previous lesson\n",
    "\n",
    "At the end of last lesson you saw this list of tasks"
   ]
  },
  {
   "cell_type": "code",
   "execution_count": 2,
   "id": "c2f3989f",
   "metadata": {
    "height": 132
   },
   "outputs": [
    {
     "name": "stdout",
     "output_type": "stream",
     "text": [
      "[\"Compose a brief email to my boss explaining that I will be late for tomorrow's meeting.\", 'Write a birthday poem for Otto, celebrating his 28th birthday.', \"Write a 300-word review of the movie 'The Arrival'.\"]\n"
     ]
    }
   ],
   "source": [
    "#from previous lesson:\n",
    "list_of_tasks = [\n",
    "    \"Compose a brief email to my boss explaining that I will be late for tomorrow's meeting.\",\n",
    "    \"Write a birthday poem for Otto, celebrating his 28th birthday.\",\n",
    "    \"Write a 300-word review of the movie 'The Arrival'.\"\n",
    "]\n",
    "print(list_of_tasks)"
   ]
  },
  {
   "cell_type": "markdown",
   "id": "e5bae794",
   "metadata": {},
   "source": [
    "You passed them one by one to the LLM, repeatedly updated the task variable, then re-executed the function call with this code:"
   ]
  },
  {
   "cell_type": "code",
   "execution_count": 4,
   "id": "9f426b72",
   "metadata": {
    "height": 47
   },
   "outputs": [
    {
     "name": "stdout",
     "output_type": "stream",
     "text": [
      "____________________________________________________________________________________________________\n",
      "Subject: Running Late for Tomorrow's Meeting\n",
      "\n",
      "Hi [Boss's Name],\n",
      "\n",
      "I wanted to let you know that I will be running late for tomorrow's meeting. I apologize for any inconvenience this may cause. I will do my best to join as soon as possible.\n",
      "\n",
      "Thank you for your understanding.\n",
      "\n",
      "Best,\n",
      "[Your Name]\n",
      "____________________________________________________________________________________________________\n",
      "\n",
      "\n"
     ]
    }
   ],
   "source": [
    "task = list_of_tasks[0]\n",
    "print_llm_response(task)"
   ]
  },
  {
   "cell_type": "markdown",
   "id": "c46ed944-05e1-4ae0-a238-f172413b1771",
   "metadata": {},
   "source": [
    "If you wanted to complete all the tasks in your list, you would have to re-write the same code multiple times. Alternatively, you can use a `for` loop."
   ]
  },
  {
   "cell_type": "markdown",
   "id": "b40551bc",
   "metadata": {},
   "source": [
    "## Iterating through task lists with AI"
   ]
  },
  {
   "cell_type": "markdown",
   "id": "58985454-e28e-49c8-9fe9-3b9057bafd08",
   "metadata": {},
   "source": [
    "When you run the cell below you will see how the for loop iterates through the elements in `list_of_tasks`."
   ]
  },
  {
   "cell_type": "code",
   "execution_count": 5,
   "id": "0c05dc28-4833-46ae-aad1-3607fab9cd67",
   "metadata": {
    "height": 47
   },
   "outputs": [
    {
     "name": "stdout",
     "output_type": "stream",
     "text": [
      "Compose a brief email to my boss explaining that I will be late for tomorrow's meeting.\n",
      "Write a birthday poem for Otto, celebrating his 28th birthday.\n",
      "Write a 300-word review of the movie 'The Arrival'.\n"
     ]
    }
   ],
   "source": [
    "for task in list_of_tasks:\n",
    "    print(task)"
   ]
  },
  {
   "cell_type": "markdown",
   "id": "e7dedcb5",
   "metadata": {},
   "source": [
    "Here's the code that automatically passes all items in list to `print_llm_response`"
   ]
  },
  {
   "cell_type": "code",
   "execution_count": 6,
   "id": "721136bd",
   "metadata": {
    "height": 47
   },
   "outputs": [
    {
     "name": "stdout",
     "output_type": "stream",
     "text": [
      "____________________________________________________________________________________________________\n",
      "Subject: Running Late for Tomorrow's Meeting\n",
      "\n",
      "Hi [Boss's Name],\n",
      "\n",
      "I wanted to let you know that I will be running a few minutes late for tomorrow's meeting due to an unexpected appointment. I apologize for any inconvenience this may cause and will join the meeting as soon as I can.\n",
      "\n",
      "Thank you for your understanding.\n",
      "\n",
      "Best regards,\n",
      "[Your Name]\n",
      "____________________________________________________________________________________________________\n",
      "\n",
      "\n",
      "____________________________________________________________________________________________________\n",
      "Happy 28th birthday, Otto dear,\n",
      "Another year to hold so near.\n",
      "May joy and laughter fill your day,\n",
      "And blessings come in every way.\n",
      "\n",
      "With each year that passes by,\n",
      "May your dreams reach for the sky.\n",
      "Celebrate this special date,\n",
      "With love, happiness, and fate.\n",
      "\n",
      "So blow out the candles, make a wish,\n",
      "For a year ahead filled with bliss.\n",
      "Happy birthday, Otto, may it be great,\n",
      "Enjoy every moment, celebrate!\n",
      "____________________________________________________________________________________________________\n",
      "\n",
      "\n",
      "____________________________________________________________________________________________________\n",
      "\"The Arrival\" is a captivating science fiction film that follows the story of a linguist, Louise Banks, played by Amy Adams, who is tasked with communicating with extraterrestrial beings that have arrived on Earth. The movie is a masterful blend of suspense, mystery, and thought-provoking themes that keep viewers on the edge of their seats from start to finish.\n",
      "\n",
      "Director Denis Villeneuve's meticulous attention to detail is evident throughout the film, from the stunning visual effects to the intricate plot twists that keep audiences guessing until the very end. The cinematography is breathtaking, with sweeping shots of the alien spacecraft and the vast landscapes that add to the sense of wonder and awe.\n",
      "\n",
      "Amy Adams delivers a standout performance as Louise Banks, capturing the character's intelligence, vulnerability, and determination with nuance and depth. Her chemistry with co-star Jeremy Renner, who plays physicist Ian Donnelly, adds a layer of emotional depth to the film that elevates it beyond a typical sci-fi thriller.\n",
      "\n",
      "One of the film's greatest strengths is its exploration of complex themes such as language, communication, and the nature of time. The way in which the aliens communicate through intricate circular symbols challenges the characters and the audience to think beyond traditional forms of language and understanding.\n",
      "\n",
      "Overall, \"The Arrival\" is a thought-provoking and visually stunning film that will leave viewers pondering its themes long after the credits roll. With its stellar performances, gripping storyline, and stunning visuals, it is a must-see for fans of science fiction and intelligent storytelling.\n",
      "____________________________________________________________________________________________________\n",
      "\n",
      "\n"
     ]
    }
   ],
   "source": [
    "for task in list_of_tasks:\n",
    "    print_llm_response(task)"
   ]
  },
  {
   "cell_type": "markdown",
   "id": "f9a7a927",
   "metadata": {},
   "source": [
    "Let's break this down.\n",
    "\n",
    "The `for task in list` pattern works as follows:\n",
    "\n",
    "- `task` is assigned the first item in the list. In this case, it's the string `\"Compose a brief email to my boss explaining that I will be late for tomorrow's meeting.\"`\n",
    "- The next indented line is called a block and contains an action to carry out on `task`. In this example, the string gets passed to the LLM, and the result appears on the screen.\n",
    "- Then the loop starts again. Now, `task` is assigned the string \"Write a birthday poem for Otto, celebrating his 28th birthday.\" It's the same variable, but with a different value.\n",
    "- `get_llm_response` runs again, and so on.\n",
    "\n",
    "Be sure to call out the `:` at the end of the line. Indentation is crucial; if it’s not correct, you'll get an error."
   ]
  },
  {
   "cell_type": "code",
   "execution_count": 7,
   "id": "8516a3dc",
   "metadata": {
    "height": 47
   },
   "outputs": [
    {
     "ename": "IndentationError",
     "evalue": "expected an indented block (2524768439.py, line 2)",
     "output_type": "error",
     "traceback": [
      "\u001b[0;36m  Cell \u001b[0;32mIn[7], line 2\u001b[0;36m\u001b[0m\n\u001b[0;31m    print_llm_response(task)\u001b[0m\n\u001b[0m    ^\u001b[0m\n\u001b[0;31mIndentationError\u001b[0m\u001b[0;31m:\u001b[0m expected an indented block\n"
     ]
    }
   ],
   "source": [
    "for task in list_of_tasks:\n",
    "print_llm_response(task)"
   ]
  },
  {
   "cell_type": "markdown",
   "id": "2d8e58be",
   "metadata": {},
   "source": [
    "<p style=\"background-color:#F5C780; padding:15px\"> 🤖 <b>Use the Chatbot</b>: Explain indentation error and help me fix it in this for loop: <br>\n",
    "for task in list_of_tasks:<br>\n",
    "print_llm_response(task)\n",
    "</p>"
   ]
  },
  {
   "cell_type": "markdown",
   "id": "8fdafdba-1a33-4bbd-9061-6950bd8bc488",
   "metadata": {},
   "source": [
    "## Iteratively updating AI prompts using lists"
   ]
  },
  {
   "cell_type": "markdown",
   "id": "09cf3e07",
   "metadata": {},
   "source": [
    "You can even use lists with for loops to iteratively update more complex prompts with the list items. For instance, let's say that you have a list of ice-cream flavors:"
   ]
  },
  {
   "cell_type": "code",
   "execution_count": 31,
   "id": "385f6ec5",
   "metadata": {
    "height": 132
   },
   "outputs": [
    {
     "name": "stdout",
     "output_type": "stream",
     "text": [
      "['Vanilla', 'Chocolate', 'Strawberry', 'Mint Chocolate Chip']\n"
     ]
    }
   ],
   "source": [
    "#ice cream flavor example\n",
    "ice_cream_flavors = [\n",
    "    \"Vanilla\",\n",
    "    \"Chocolate\",\n",
    "    \"Strawberry\",\n",
    "    \"Mint Chocolate Chip\"]\n",
    "print(ice_cream_flavors)"
   ]
  },
  {
   "cell_type": "markdown",
   "id": "bf5219ea",
   "metadata": {},
   "source": [
    "You can use a for loop to iterate through the flavors and create a captivating description for each of them."
   ]
  },
  {
   "cell_type": "code",
   "execution_count": 29,
   "id": "d732762f",
   "metadata": {
    "height": 149
   },
   "outputs": [
    {
     "name": "stdout",
     "output_type": "stream",
     "text": [
      "____________________________________________________________________________________________________\n",
      "Indulge in the rich and velvety decadence of our classic Chocolate ice cream. Each spoonful is a luxurious experience that will satisfy your sweet cravings and leave you wanting more. Treat yourself to the timeless delight of pure chocolate bliss.\n",
      "____________________________________________________________________________________________________\n",
      "\n",
      "\n",
      "____________________________________________________________________________________________________\n",
      "Indulge in the refreshing coolness of mint perfectly balanced with rich, decadent chocolate chips. Our Mint Chocolate Chip ice cream is a delightful treat that will tantalize your taste buds with every creamy spoonful.\n",
      "____________________________________________________________________________________________________\n",
      "\n",
      "\n",
      "____________________________________________________________________________________________________\n",
      "Indulge in the timeless classic of creamy vanilla ice cream. Its rich and velvety texture will transport your taste buds to a realm of pure delight. Experience the pure essence of vanilla in every luscious spoonful.\n",
      "____________________________________________________________________________________________________\n",
      "\n",
      "\n",
      "____________________________________________________________________________________________________\n",
      "Indulge in the sweet and refreshing taste of our Strawberry ice cream. Made with ripe, juicy strawberries, every spoonful is bursting with fruity goodness. Treat yourself to a delightful experience that will leave your taste buds craving more.\n",
      "____________________________________________________________________________________________________\n",
      "\n",
      "\n",
      "____________________________________________________________________________________________________\n",
      "Indulge in the rich and creamy delight of our cookie dough ice cream. Each spoonful is a perfect blend of sweet vanilla ice cream and chunks of irresistible cookie dough pieces. Satisfy your cravings with this classic favorite that will leave you wanting more.\n",
      "____________________________________________________________________________________________________\n",
      "\n",
      "\n"
     ]
    }
   ],
   "source": [
    "for flavor in ice_cream_flavors:\n",
    "    prompt = f\"\"\"For the ice cream flavor listed below, \n",
    "    provide a captivating description that could be used for promotional purposes.\n",
    "\n",
    "    Flavor: {flavor}\n",
    "\n",
    "    \"\"\"\n",
    "    print_llm_response(prompt)"
   ]
  },
  {
   "cell_type": "markdown",
   "id": "d3f3ead6",
   "metadata": {},
   "source": [
    "Now that you know how to use lists, you can even save the promortional descriptions to another list using `.append()`:"
   ]
  },
  {
   "cell_type": "code",
   "execution_count": 10,
   "id": "db66a442",
   "metadata": {
    "height": 200
   },
   "outputs": [],
   "source": [
    "#saving results to a list\n",
    "promotional_descriptions = []\n",
    "for flavor in ice_cream_flavors:\n",
    "    prompt = f\"\"\"For the ice cream flavor listed below, \n",
    "    provide a captivating description that could be used for promotional purposes.\n",
    "\n",
    "    Flavor: {flavor}\n",
    "\n",
    "    \"\"\"\n",
    "    description = get_llm_response(prompt)\n",
    "    promotional_descriptions.append(description)"
   ]
  },
  {
   "cell_type": "markdown",
   "id": "ebdbcfa5",
   "metadata": {},
   "source": [
    "After you run that code, you should be able to access the promotional descriptions for each of your ice-cream flavors."
   ]
  },
  {
   "cell_type": "code",
   "execution_count": 11,
   "id": "cad94172",
   "metadata": {
    "height": 30
   },
   "outputs": [
    {
     "name": "stdout",
     "output_type": "stream",
     "text": [
      "['Indulge in the timeless classic of creamy Vanilla ice cream. Its rich and velvety texture will transport your taste buds to a realm of pure delight. Experience the pure essence of vanilla in every luscious spoonful.', 'Indulge in the rich and velvety decadence of our classic Chocolate ice cream. Each spoonful is a luxurious experience that will satisfy your sweet cravings and leave you wanting more. Treat yourself to the timeless delight of pure chocolate bliss.', 'Indulge in the sweet and refreshing taste of our Strawberry ice cream. Made with ripe, juicy strawberries, every spoonful is bursting with fruity goodness. Treat yourself to a scoop of summer in every bite!', 'Indulge in the refreshing coolness of mint perfectly balanced with rich, decadent chocolate chips. Our Mint Chocolate Chip ice cream is a delightful treat that will leave your taste buds tingling for more.']\n"
     ]
    }
   ],
   "source": [
    "print(promotional_descriptions)"
   ]
  },
  {
   "cell_type": "markdown",
   "id": "7135f13d-0f36-4de4-9365-bdadb8e6d611",
   "metadata": {},
   "source": [
    "## Extra practice"
   ]
  },
  {
   "cell_type": "markdown",
   "id": "c01cc56d-92c7-4632-8cf9-aef3f9f9e3c7",
   "metadata": {},
   "source": [
    "Please go through the exercises in the cells below if you want some extra practice for the topics you covered in this lesson."
   ]
  },
  {
   "cell_type": "code",
   "execution_count": 63,
   "id": "f5a19e85-cd80-4e02-a5e1-762284bd27b6",
   "metadata": {
    "height": 200
   },
   "outputs": [
    {
     "name": "stdout",
     "output_type": "stream",
     "text": [
      "Chocolate\n",
      "Mint Chocolate Chip\n",
      "vanilla\n",
      "Strawberry\n",
      "rocky road\n"
     ]
    }
   ],
   "source": [
    "# Fix the following code.\n",
    "# It should print the flavors in\n",
    "# ice_cream_flavors one by one.\n",
    "\n",
    "ice_cream_flavors = [\"Chocolate\", \"Mint Chocolate Chip\", \"vanilla\", \"Strawberry\", \"rocky road\"]\n",
    "for flavor in ice_cream_flavors:\n",
    "    print(flavor)\n",
    "\n",
    "    \n",
    "    \n",
    "    "
   ]
  },
  {
   "cell_type": "code",
   "execution_count": 66,
   "id": "7b7480c4-ae67-42bd-8cac-189f1f087053",
   "metadata": {
    "height": 200
   },
   "outputs": [
    {
     "name": "stdout",
     "output_type": "stream",
     "text": [
      "____________________________________________________________________________________________________\n",
      "Spanish Word: Chocolate\n",
      "____________________________________________________________________________________________________\n",
      "\n",
      "\n",
      "____________________________________________________________________________________________________\n",
      "Mint Chocolate Chip in Spanish is \"Menta con Trozos de Chocolate.\"\n",
      "____________________________________________________________________________________________________\n",
      "\n",
      "\n",
      "____________________________________________________________________________________________________\n",
      "Spanish word: vainilla\n",
      "____________________________________________________________________________________________________\n",
      "\n",
      "\n",
      "____________________________________________________________________________________________________\n",
      "Spanish word: Fresa\n",
      "____________________________________________________________________________________________________\n",
      "\n",
      "\n",
      "____________________________________________________________________________________________________\n",
      "Spanish word: camino pedregoso\n",
      "____________________________________________________________________________________________________\n",
      "\n",
      "\n"
     ]
    }
   ],
   "source": [
    "# Translate the flavors in ice_cream_flavors to Spanish\n",
    "\n",
    "\n",
    "for flavor in ice_cream_flavors:\n",
    "    prompt = f\"\"\"For the ice cream flavor listed below, \n",
    "    provide a the Spainsh word.\n",
    "\n",
    "    Flavor: {flavor}\n",
    "\n",
    "    \"\"\"\n",
    "    print_llm_response(prompt)"
   ]
  },
  {
   "cell_type": "code",
   "execution_count": null,
   "id": "6394bb74-a839-4732-8dbf-1b96bd8e97f9",
   "metadata": {
    "height": 336
   },
   "outputs": [
    {
     "name": "stdout",
     "output_type": "stream",
     "text": [
      "['Apple']\n",
      "['Apple', 'Weather']\n"
     ]
    }
   ],
   "source": [
    "\n",
    "# Write code to get a list with \n",
    "# words without typos\n",
    "\n",
    "words_with_typos = [\"Aple\", \"Wether\", \"Newpaper\"]\n",
    "words_without_typos = []\n",
    "    \n",
    "for word in words_with_typos:\n",
    "    prompt = f\"Fix the spelling mistake in the following word: {word}.Provide only the word.\"\n",
    "    correct_word = get_llm_response(prompt)\n",
    "    words_without_typos.append(correct_word)\n",
    "    print(words_without_typos)"
   ]
  }
 ],
 "metadata": {
  "kernelspec": {
   "display_name": "Python 3 (ipykernel)",
   "language": "python",
   "name": "python3"
  },
  "language_info": {
   "codemirror_mode": {
    "name": "ipython",
    "version": 3
   },
   "file_extension": ".py",
   "mimetype": "text/x-python",
   "name": "python",
   "nbconvert_exporter": "python",
   "pygments_lexer": "ipython3",
   "version": "3.9.19"
  }
 },
 "nbformat": 4,
 "nbformat_minor": 5
}
